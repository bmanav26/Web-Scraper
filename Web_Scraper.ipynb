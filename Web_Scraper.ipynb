{
 "cells": [
  {
   "cell_type": "code",
   "execution_count": 1,
   "id": "14e1e7a9",
   "metadata": {},
   "outputs": [],
   "source": [
    "import openpyxl\n",
    "from bs4 import BeautifulSoup\n",
    "from selenium import webdriver\n",
    "import time"
   ]
  },
  {
   "cell_type": "code",
   "execution_count": 2,
   "id": "3506f8c7",
   "metadata": {},
   "outputs": [],
   "source": [
    "url=\"https://topai.tools/browse\""
   ]
  },
  {
   "cell_type": "code",
   "execution_count": 3,
   "id": "61741739",
   "metadata": {},
   "outputs": [],
   "source": [
    "driver = webdriver.Chrome()\n",
    "driver.get(url)"
   ]
  },
  {
   "cell_type": "code",
   "execution_count": 4,
   "id": "279dd50e",
   "metadata": {},
   "outputs": [],
   "source": [
    "def scroll_to_bottom():\n",
    "    last_height=driver.execute_script('return document.body.scrollHeight')\n",
    "    while True:\n",
    "        driver.execute_script(\"window.scrollTo(0, document.body.scrollHeight);\")\n",
    "        time.sleep(5)\n",
    "        new_height = driver.execute_script(\"return document.body.scrollHeight\")\n",
    "        if new_height == last_height:\n",
    "            break\n",
    "        last_height = new_height"
   ]
  },
  {
   "cell_type": "code",
   "execution_count": 5,
   "id": "b9132e35",
   "metadata": {},
   "outputs": [],
   "source": [
    "scroll_to_bottom()"
   ]
  },
  {
   "cell_type": "code",
   "execution_count": 6,
   "id": "87c40a19",
   "metadata": {},
   "outputs": [],
   "source": [
    "source = driver.page_source\n",
    "driver.quit()"
   ]
  },
  {
   "cell_type": "code",
   "execution_count": 27,
   "id": "9e40e764",
   "metadata": {},
   "outputs": [],
   "source": [
    "excel=openpyxl.Workbook()"
   ]
  },
  {
   "cell_type": "code",
   "execution_count": 28,
   "id": "6cd9c617",
   "metadata": {},
   "outputs": [],
   "source": [
    "sheet=excel.active\n",
    "sheet.title='Top AI Tools'"
   ]
  },
  {
   "cell_type": "code",
   "execution_count": 29,
   "id": "ae9dd315",
   "metadata": {},
   "outputs": [],
   "source": [
    "sheet.append(['S.No.', 'Tool Name', 'Url', 'Price', 'Tags', 'Use-case'])"
   ]
  },
  {
   "cell_type": "code",
   "execution_count": 30,
   "id": "bb91b9d4",
   "metadata": {},
   "outputs": [],
   "source": [
    "# source=requests.get(url).text\n",
    "# source.raise_for_status()"
   ]
  },
  {
   "cell_type": "code",
   "execution_count": 31,
   "id": "988a617b",
   "metadata": {},
   "outputs": [],
   "source": [
    "soup=BeautifulSoup(source, 'lxml')"
   ]
  },
  {
   "cell_type": "code",
   "execution_count": 32,
   "id": "3eda5269",
   "metadata": {},
   "outputs": [],
   "source": [
    "tools_section = soup.find_all('div', class_=\"tool-wrapper\")"
   ]
  },
  {
   "cell_type": "code",
   "execution_count": 33,
   "id": "1a8c5be1",
   "metadata": {},
   "outputs": [],
   "source": [
    "i=1\n",
    "for tools in tools_section:\n",
    "    try:\n",
    "        divs=tools.find_all('div')\n",
    "        tool_name=tools.h5.text.split('\\n')[1]\n",
    "        urls=divs[1].find('a', class_=\"mx-2 rounded p-1\")\n",
    "        tool_url=urls['href']\n",
    "        hyperlink_formula = f'=HYPERLINK(\"{tool_url}\", \"{tool_url}\")'\n",
    "        price=divs[1].small.span.text\n",
    "        tag_list=tools.find_all('p', class_=\"px-1\")[1].find_all('span', class_=\"badge\")\n",
    "        tags=''\n",
    "        for tag in tag_list:\n",
    "            tags=tags+tag.text+', '\n",
    "        tags=tags.rstrip(', ')\n",
    "        use_cases=divs[1].p.text\n",
    "        sheet.append([i, tool_name, hyperlink_formula, price, tags, use_cases])\n",
    "        i+=1\n",
    "    except Exception as e:\n",
    "        print(e)"
   ]
  },
  {
   "cell_type": "code",
   "execution_count": 34,
   "id": "b8943194",
   "metadata": {},
   "outputs": [],
   "source": [
    "excel.save('Top AI Tools.xlsx')"
   ]
  },
  {
   "cell_type": "code",
   "execution_count": null,
   "id": "0997eb6a",
   "metadata": {},
   "outputs": [],
   "source": []
  }
 ],
 "metadata": {
  "kernelspec": {
   "display_name": "Python 3 (ipykernel)",
   "language": "python",
   "name": "python3"
  },
  "language_info": {
   "codemirror_mode": {
    "name": "ipython",
    "version": 3
   },
   "file_extension": ".py",
   "mimetype": "text/x-python",
   "name": "python",
   "nbconvert_exporter": "python",
   "pygments_lexer": "ipython3",
   "version": "3.10.9"
  }
 },
 "nbformat": 4,
 "nbformat_minor": 5
}
